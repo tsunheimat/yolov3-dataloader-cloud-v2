{
  "nbformat": 4,
  "nbformat_minor": 0,
  "metadata": {
    "accelerator": "GPU",
    "colab": {
      "name": "yolov3-dataloader-cloud-v2.ipynb",
      "provenance": [],
      "collapsed_sections": [
        "aLym52a0bWyL",
        "ykDtfOqJrrry",
        "uZ90X06GTY1o",
        "gmP07ozGoAPX",
        "buwJRRWrb2iM",
        "Ohjxg54hUddc"
      ],
      "toc_visible": true
    },
    "kernelspec": {
      "display_name": "Python 3",
      "language": "python",
      "name": "python3"
    },
    "language_info": {
      "codemirror_mode": {
        "name": "ipython",
        "version": 3
      },
      "file_extension": ".py",
      "mimetype": "text/x-python",
      "name": "python",
      "nbconvert_exporter": "python",
      "pygments_lexer": "ipython3",
      "version": "3.6.9"
    }
  },
  "cells": [
    {
      "cell_type": "markdown",
      "metadata": {
        "colab_type": "text",
        "id": "qse0qhKQoOji"
      },
      "source": [
        "# Yolov3 Dataloader (Google Colab) V2\n",
        "\n",
        "Author: Kevin Yu \\\n",
        "Email: kevinyu211@yahoo.com \\\n",
        "Site: www.hikariai.net \\\n",
        " \\\n",
        "** This tool is tailored for those who want to train their custom dataset on a Yolov3 Model. \n",
        "\n",
        "** Make sure you read the instructions for each step carefully !!!\n",
        "\n",
        "** If you following the instructions below step by step, it will generate a new trained-weight in the end, and you may download it to your local machine.\n",
        "\n",
        "** In the github repo, you can find a \"demo.sh\" to test the result. \n",
        "\n",
        "\n",
        "\n",
        "\n",
        "#### Good Luck!"
      ]
    },
    {
      "cell_type": "markdown",
      "metadata": {
        "id": "-ALiniFgd6Zm",
        "colab_type": "text"
      },
      "source": [
        "# Check GPU"
      ]
    },
    {
      "cell_type": "code",
      "metadata": {
        "id": "XsvyYmo4d_OU",
        "colab_type": "code",
        "colab": {}
      },
      "source": [
        "# Check if you get a P4 or a P100 Nvidia GPU\n",
        "# If you get a K80, you may reset the runtime\n",
        "\n",
        "gpu_info = !nvidia-smi\n",
        "gpu_info = '\\n'.join(gpu_info)\n",
        "if gpu_info.find('failed') >= 0:\n",
        "  print('Select the Runtime → \"Change runtime type\" menu to enable a GPU accelerator, ')\n",
        "  print('and then re-execute this cell.')\n",
        "else:\n",
        "  print(gpu_info)"
      ],
      "execution_count": 0,
      "outputs": []
    },
    {
      "cell_type": "markdown",
      "metadata": {
        "colab_type": "text",
        "id": "aLym52a0bWyL"
      },
      "source": [
        " # Setup"
      ]
    },
    {
      "cell_type": "markdown",
      "metadata": {
        "colab_type": "text",
        "id": "W2gi-8X7f2A2"
      },
      "source": [
        "### Install cuDNN-10.0 and other dependecies"
      ]
    },
    {
      "cell_type": "code",
      "metadata": {
        "colab_type": "code",
        "id": "kDGs_EKDmVhw",
        "colab": {}
      },
      "source": [
        "# Download the cuDNN driver\n",
        "!wget https://objectstorage.ca-toronto-1.oraclecloud.com/n/yzpqsgba6ssd/b/bucket-20200415-0121/o/cudnn-10.0-linux-x64-v7.5.0.56.tgz -O cudnn-10.0-linux-x64-v7.5.0.56.tgz\n",
        "# We're unzipping the cuDNN files from your Drive folder directly to the VM CUDA folders\n",
        "!tar -xzvf cudnn-10.0-linux-x64-v7.5.0.56.tgz -C /usr/local/\n",
        "!chmod a+r /usr/local/cuda/include/cudnn.h\n",
        "\n",
        "# install python-nvcc plugin\n",
        "!pip install git+git://github.com/andreinechaev/nvcc4jupyter.git\n",
        "%load_ext nvcc_plugin\n",
        "\n",
        "# check if installed successfully\n",
        "!/usr/local/cuda/bin/nvcc --version"
      ],
      "execution_count": 0,
      "outputs": []
    },
    {
      "cell_type": "markdown",
      "metadata": {
        "colab_type": "text",
        "id": "YErxkfC8nB_u"
      },
      "source": [
        "### Clone Yolov3-Darknet"
      ]
    },
    {
      "cell_type": "code",
      "metadata": {
        "colab_type": "code",
        "id": "b7LKlP4HXuBn",
        "colab": {}
      },
      "source": [
        "!git clone https://github.com/AlexeyAB/darknet\n",
        "%cd darknet\n",
        "!wget https://objectstorage.ca-toronto-1.oraclecloud.com/n/yzpqsgba6ssd/b/bucket-20200415-0121/o/yolov3-tiny.weights -q --show-progress --no-clobber -O /content/darknet/yolov3-tiny.weights\n",
        "!wget https://objectstorage.ca-toronto-1.oraclecloud.com/n/yzpqsgba6ssd/b/bucket-20200415-0121/o/darknet53.conv.74 -q --show-progress --no-clobber -O /content/darknet/cfg/darknet53.conv.74"
      ],
      "execution_count": 0,
      "outputs": []
    },
    {
      "cell_type": "markdown",
      "metadata": {
        "colab_type": "text",
        "id": "FOGvEHFHnZT-"
      },
      "source": [
        "### Compile YOLOv3-Darknet with CUDA 10.0"
      ]
    },
    {
      "cell_type": "code",
      "metadata": {
        "colab_type": "code",
        "id": "XA-kzzQBnibH",
        "colab": {}
      },
      "source": [
        "!export PATH=/usr/local/cuda-10.0/bin${PATH:+:${PATH}}\n",
        "!export LD_LIBRARY_PATH=/usr/local/cuda-10.0/lib64${LD_LIBRARY_PATH:+:${LD_LIBRARY_PATH}}\n",
        "%cd /content/darknet\n",
        "!sed -i 's|GPU=0|GPU=1|' Makefile\n",
        "!sed -i 's|CUDNN=0|CUDNN=1|' Makefile\n",
        "!sed -i 's|OPENCV=0|OPENCV=1|' Makefile"
      ],
      "execution_count": 0,
      "outputs": []
    },
    {
      "cell_type": "code",
      "metadata": {
        "colab_type": "code",
        "id": "jlvO3Aqtq34b",
        "colab": {}
      },
      "source": [
        "!make"
      ],
      "execution_count": 0,
      "outputs": []
    },
    {
      "cell_type": "markdown",
      "metadata": {
        "colab_type": "text",
        "id": "ncQP4RkEgLYM"
      },
      "source": [
        "### Clone the project from Github"
      ]
    },
    {
      "cell_type": "code",
      "metadata": {
        "colab_type": "code",
        "id": "qiiDqn7ScCS5",
        "colab": {}
      },
      "source": [
        "%cd /content\n",
        "!git clone https://github.com/yqlbu/yolov3-dataloader-cloud-v2 yolov3-dataloader-cloud\n",
        "!mkdir /content/yolov3-dataloader-cloud/backup\n",
        "!mkdir /content/yolov3-dataloader-cloud/img"
      ],
      "execution_count": 0,
      "outputs": []
    },
    {
      "cell_type": "markdown",
      "metadata": {
        "colab_type": "text",
        "id": "ykDtfOqJrrry"
      },
      "source": [
        "# Upload dataset"
      ]
    },
    {
      "cell_type": "markdown",
      "metadata": {
        "colab_type": "text",
        "id": "epgJCd1orwEf"
      },
      "source": [
        "*** Please follow the steps below to upload your dataset to the data folder located at  '/content/data'"
      ]
    },
    {
      "cell_type": "markdown",
      "metadata": {
        "colab_type": "text",
        "id": "e5lljLF_psL3"
      },
      "source": [
        "**Step #0: Prepare your own dataset**\n",
        "\n",
        "- On your local machine, create a new folder named \"data\"\n",
        "- Put all the images and the \".xml\" files associated with each image into this data folder\n",
        "- Zip the data folder\n",
        "\n",
        "*** Noted: \n",
        "- You should have a zip file called \"data.zip\" that contains all the images (.png/.jpg/.jpeg) aligned with the .xml files to be trained before moving to the next step."
      ]
    },
    {
      "cell_type": "markdown",
      "metadata": {
        "colab_type": "text",
        "id": "lyelGXq_Wtij"
      },
      "source": [
        "**Step #1: Mount your Google Drive**\n",
        "\n",
        "To do so, run the code below. \\\n",
        "- Paste the token \\\n",
        "- Hit enter \\\n",
        "- Check if your Google Drive has been successfully mounted in Colab named \"drive\""
      ]
    },
    {
      "cell_type": "code",
      "metadata": {
        "id": "IVJhVDqAjwXw",
        "colab_type": "code",
        "colab": {}
      },
      "source": [
        "from google.colab import drive\n",
        "drive.mount('/content/drive')"
      ],
      "execution_count": 0,
      "outputs": []
    },
    {
      "cell_type": "markdown",
      "metadata": {
        "colab_type": "text",
        "id": "Lnp9k0d_XLX1"
      },
      "source": [
        "**Step #2: Unzip the data file from your Google Drive to the 'yolov3-dataloader-cloud' directory**\n",
        "- Note: if your path contains a \" \" (space), you should add a '\\ ' between characters\n",
        "- eg: '/content/drive/Shared\\ drives/dataset/data.zip'\n",
        "- To easily find the path just simply find the data.zip file in your drive and right-click the \"copy path\"\n",
        "- Please make sure you correctly find your file path before executing this cell. Otherwise, it won't work."
      ]
    },
    {
      "cell_type": "code",
      "metadata": {
        "colab_type": "code",
        "id": "LAUaRap8Ml5t",
        "colab": {}
      },
      "source": [
        "!unzip <DATA_PATH> -d /content/yolov3-dataloader-cloud\n",
        "# eg: unzip /content/drive/My\\ Drive/Colab\\ Notebooks/data.zip -d /content/yolov3-dataloader-cloud\n",
        "!echo '  Finished loading dataset !'"
      ],
      "execution_count": 0,
      "outputs": []
    },
    {
      "cell_type": "markdown",
      "metadata": {
        "colab_type": "text",
        "id": "Blb_Cnn7Xge_"
      },
      "source": [
        "*** Noted: If the above commands excuted correctly, you may click the 'refresh button' on the left column, and you will see the data folder created inside the 'yolov3-dataloader-cloud' directory\n",
        "\n",
        "*** Now you should be good to move forward ! Good Luck !"
      ]
    },
    {
      "cell_type": "markdown",
      "metadata": {
        "id": "uZ90X06GTY1o",
        "colab_type": "text"
      },
      "source": [
        "# Define Utils"
      ]
    },
    {
      "cell_type": "code",
      "metadata": {
        "id": "f6TVzHseNVS4",
        "colab_type": "code",
        "colab": {}
      },
      "source": [
        "# Download an image\n",
        "def ImgDownload(img_url,img_name):\n",
        "  import urllib.request\n",
        "  print('Image downloading...')\n",
        "  img_path = '/content/yolov3-dataloader-cloud/img/'\n",
        "  img_name = img_name+'.jpg'\n",
        "  urllib.request.urlretrieve(img_url, img_path+img_name)\n",
        "  print('Image displaying...')\n",
        "  imShow(img_path+img_name)\n",
        "\n",
        "# Display an image\n",
        "def imShow(path):\n",
        "  import cv2\n",
        "  import matplotlib.pyplot as plt\n",
        "  %matplotlib inline\n",
        "\n",
        "  image = cv2.imread(path)\n",
        "  height, width = image.shape[:2]\n",
        "  resized_image = cv2.resize(image,(3*width, 3*height), interpolation = cv2.INTER_CUBIC)\n",
        "\n",
        "  fig = plt.gcf()\n",
        "  fig.set_size_inches(18, 10)\n",
        "  plt.axis(\"off\")\n",
        "  plt.imshow(cv2.cvtColor(resized_image, cv2.COLOR_BGR2RGB))\n",
        "  plt.show()"
      ],
      "execution_count": 0,
      "outputs": []
    },
    {
      "cell_type": "markdown",
      "metadata": {
        "colab_type": "text",
        "id": "gmP07ozGoAPX"
      },
      "source": [
        "# Create config files for training"
      ]
    },
    {
      "cell_type": "markdown",
      "metadata": {
        "colab_type": "text",
        "id": "FK8q7clDuZWa"
      },
      "source": [
        "*** Notes (Please read carefully before you excute the cells below):\n",
        "\n",
        " - Please make sure you set config parameters below corrently. Otherwise, you will not be able to activate the training process.\n",
        " - **MODEL_NAME** is the name of your new model\n",
        " - **CLASS_NAME** is associated with all the classes that your dataset contains, please fill in the CLASS_NAME list correctly with your classes\n",
        " - **CLASS_NUM** is associated with the total number of classes that your dataset contains\n",
        " - **MAX_BATCHES** is the total number of iterations in the training\n",
        " - If you set all the parameters mentioned above properly, you should be good to move forward"
      ]
    },
    {
      "cell_type": "code",
      "metadata": {
        "colab_type": "code",
        "id": "lwikhrbvoMDP",
        "colab": {}
      },
      "source": [
        "import os\n",
        "\n",
        "#New Model Parameters\n",
        "\n",
        "#Replace NEW_MODEL_NAME with your new model name\n",
        "MODEL_NAME = 'MODEL_NAME'\n",
        "#Put your classes tag below\n",
        "CLASS_NAME = [\n",
        "    \"class_1\",\n",
        "    \"class_2\"\n",
        "]\n",
        "#Replace # with your classes number (int), 2 is set as the default value\n",
        "CLASS_NUM = 2\n",
        "#Replace your desired batch # (6000 as default)\n",
        "#Ideally the MAX_BATCHES = 2500*CLASS_NUM\n",
        "MAX_BATCHES = 6000\n",
        "\n",
        "# - - - - - - - - - - - - - - - - - - - - - - - - - - - - - - - - - - - - #\n",
        "\n",
        "#Show Training process\n",
        "IMG_PATH = '/content/darknet/chart.png'\n",
        "\n",
        "%cd /content/yolov3-dataloader-cloud"
      ],
      "execution_count": 0,
      "outputs": []
    },
    {
      "cell_type": "code",
      "metadata": {
        "colab_type": "code",
        "id": "VnIQ2FnToY36",
        "colab": {}
      },
      "source": [
        "#class.name\n",
        "with open(MODEL_NAME+'.names', \"a+\") as file:\n",
        "    file.seek(0)\n",
        "    for i in CLASS_NAME:\n",
        "        file.write(i + '\\n')\n",
        "    print(MODEL_NAME+'.names'+' has been successfully created!')\n",
        "    file.close()"
      ],
      "execution_count": 0,
      "outputs": []
    },
    {
      "cell_type": "code",
      "metadata": {
        "colab_type": "code",
        "id": "B6MtNKzRobCS",
        "colab": {}
      },
      "source": [
        "#class.data\n",
        "with open(MODEL_NAME+'.data', \"a+\") as file:\n",
        "    file.seek(0)\n",
        "    file.write('classes = ' + str(CLASS_NUM) + '\\n')\n",
        "    file.write('train = /content/yolov3-dataloader-cloud/train.txt' + '\\n')\n",
        "    file.write('valid = /content/yolov3-dataloader-cloud/test.txt' + '\\n')\n",
        "    file.write('backup = /content/yolov3-dataloader-cloud/backup' + '\\n')\n",
        "    file.write('names = /content/yolov3-dataloader-cloud/' + MODEL_NAME + '.names' + '\\n')\n",
        "    print(MODEL_NAME+'.data'+' has been successfully created!')\n",
        "    file.close()"
      ],
      "execution_count": 0,
      "outputs": []
    },
    {
      "cell_type": "code",
      "metadata": {
        "colab_type": "code",
        "id": "VtIKMtH-odSx",
        "colab": {}
      },
      "source": [
        "#dataDispatch.py\n",
        "with open('dataDispatch.py', \"r\") as file:\n",
        "    file.seek(0)\n",
        "    all_lines = file.readlines()\n",
        "    file.close()\n",
        "with open('dataDispatch.py', \"w\") as file:\n",
        "    all_lines[7] = 'classes = ' + str(CLASS_NAME) + '\\n'\n",
        "    print(all_lines[7].strip())\n",
        "    file.writelines(all_lines)\n",
        "    print('dataDispatch.py'+' has been successfully modified!')\n",
        "    file.close()"
      ],
      "execution_count": 0,
      "outputs": []
    },
    {
      "cell_type": "code",
      "metadata": {
        "colab_type": "code",
        "id": "P9ZsZTTLohc3",
        "colab": {}
      },
      "source": [
        "#class-yolov3-tiny.cfg\n",
        "with open('temp-config.txt', \"r\") as file:\n",
        "    file.seek(0)\n",
        "    all_lines = file.readlines()\n",
        "    file.close()\n",
        "with open(MODEL_NAME+'-yolov3-tiny.cfg', \"w\") as file:\n",
        "    #modify class #\n",
        "    all_lines[134] = 'classes=' + str(CLASS_NUM) + '\\n'\n",
        "    all_lines[176] = 'classes=' + str(CLASS_NUM) + '\\n'\n",
        "    #modify max-batches\n",
        "    all_lines[19] = 'max_batches = ' + str(MAX_BATCHES) + '\\n'    \n",
        "    #modify filter ## filter = (CLASS_NUM+5) *3 ##\n",
        "    all_lines[126] = 'filters=' + str((CLASS_NUM+5) *3) + '\\n'\n",
        "    all_lines[170] = 'filters=' + str((CLASS_NUM+5) *3) + '\\n'\n",
        "    #overwrite all\n",
        "    file.writelines(all_lines)\n",
        "    print(MODEL_NAME+'-yolov3-tiny.cfg'+' has been successfully created!')\n",
        "    file.close()"
      ],
      "execution_count": 0,
      "outputs": []
    },
    {
      "cell_type": "code",
      "metadata": {
        "colab_type": "code",
        "id": "ko3TyMGXoflw",
        "colab": {}
      },
      "source": [
        "#train.sh\n",
        "with open('train.sh', \"r\") as file:\n",
        "    file.seek(0)\n",
        "    all_lines = file.readlines()\n",
        "    file.close()\n",
        "with open('train.sh', \"w\") as file:\n",
        "    all_lines[5] = '$PRJ_PATH/' + MODEL_NAME + '.data \\\\' + '\\n'\n",
        "    all_lines[6] = '$PRJ_PATH/' + MODEL_NAME+'-yolov3-tiny.cfg' + ' \\\\' + '\\n'\n",
        "    file.writelines(all_lines)\n",
        "    print('train.sh'+' has been successfully modified!')\n",
        "    file.close()"
      ],
      "execution_count": 0,
      "outputs": []
    },
    {
      "cell_type": "markdown",
      "metadata": {
        "colab_type": "text",
        "id": "buwJRRWrb2iM"
      },
      "source": [
        "# Training"
      ]
    },
    {
      "cell_type": "markdown",
      "metadata": {
        "colab_type": "text",
        "id": "KUgXcDa4wVBE"
      },
      "source": [
        "*** Notes:\n",
        "\n",
        " - Hit the \"Refresh\" button on the left column, and then navigate to the \"/yolov3-dataloader-cloud\" directory\n",
        " - Check if the directory contains the **\".data\"**, the **\".names\"**, and the **\".cfg\"** files. If you miss one or more of the files, please check the instructions from the above steps.\n",
        " - Now you should be good to activate the training process, good luck !"
      ]
    },
    {
      "cell_type": "code",
      "metadata": {
        "colab_type": "code",
        "id": "B-RomKWrgWsp",
        "scrolled": true,
        "colab": {}
      },
      "source": [
        "#start training\n",
        "!export PATH=/usr/local/cuda-10.0/bin${PATH:+:${PATH}}\n",
        "!export LD_LIBRARY_PATH=/usr/local/cuda-10.0/lib64${LD_LIBRARY_PATH:+:${LD_LIBRARY_PATH}}\n",
        "%cd /content/yolov3-dataloader-cloud/\n",
        "!python dataDispatch.py\n",
        "!source train.sh\n",
        "!echo '*** Congratulations! Training has completed. Enjoy! ***'"
      ],
      "execution_count": 0,
      "outputs": []
    },
    {
      "cell_type": "markdown",
      "metadata": {
        "id": "vsuiJxg0dywq",
        "colab_type": "text"
      },
      "source": [
        "**Show the final training result**"
      ]
    },
    {
      "cell_type": "markdown",
      "metadata": {
        "id": "qRdviMZqdywq",
        "colab_type": "text"
      },
      "source": [
        "*** You can observe a chart of how your model did throughout the training process by running the below command. It shows a chart of your average loss vs. iterations. For your model to be 'accurate' you would aim for a loss under 1."
      ]
    },
    {
      "cell_type": "code",
      "metadata": {
        "id": "rmnABpuEdywq",
        "colab_type": "code",
        "colab": {}
      },
      "source": [
        "#view the training result\n",
        "imShow(IMG_PATH)"
      ],
      "execution_count": 0,
      "outputs": []
    },
    {
      "cell_type": "markdown",
      "metadata": {
        "colab_type": "text",
        "id": "IBtHW5VbZtKB"
      },
      "source": [
        "*** Noted:\n",
        "- Once the training has finished, the final weight will be saved to the **'/content/yolov3-dataload/backup'** directory.\n",
        "- We will use it for the demo."
      ]
    },
    {
      "cell_type": "markdown",
      "metadata": {
        "colab_type": "text",
        "id": "yllA1i_PxgiH"
      },
      "source": [
        "# Demo"
      ]
    },
    {
      "cell_type": "markdown",
      "metadata": {
        "id": "Ohjxg54hUddc",
        "colab_type": "text"
      },
      "source": [
        "## Test the trained model with an image input"
      ]
    },
    {
      "cell_type": "markdown",
      "metadata": {
        "id": "-XrS5s3gUCm5",
        "colab_type": "text"
      },
      "source": [
        "**Step #1: Download an Image to test your model**"
      ]
    },
    {
      "cell_type": "code",
      "metadata": {
        "id": "h0OjHC6BNy2o",
        "colab_type": "code",
        "colab": {}
      },
      "source": [
        "img_url = 'IMG_URL'\n",
        "# eg: img_url = 'https://tasteasianfood.com/wp-content/uploads/2016/01/et17-720x405.jpg'\n",
        "img_name = 'IMG_NAME'\n",
        "# eg: img_name = 'eggtart'\n",
        "ImgDownload(img_url,img_name)"
      ],
      "execution_count": 0,
      "outputs": []
    },
    {
      "cell_type": "markdown",
      "metadata": {
        "id": "wFggkPmEYbyo",
        "colab_type": "text"
      },
      "source": [
        "**Step #2: Modify the image_demo script**"
      ]
    },
    {
      "cell_type": "code",
      "metadata": {
        "id": "qu2BcUhdYkHg",
        "colab_type": "code",
        "colab": {}
      },
      "source": [
        "#image_demo.sh\n",
        "with open('image_demo.sh', \"r\") as file:\n",
        "    file.seek(0)\n",
        "    all_lines = file.readlines()\n",
        "    file.close()\n",
        "with open('image_demo.sh', \"w\") as file:\n",
        "    all_lines[5] = '$PRJ_PATH/' + MODEL_NAME + '.data \\\\' + '\\n'\n",
        "    all_lines[6] = '$PRJ_PATH/' + MODEL_NAME+'-yolov3-tiny.cfg' + ' \\\\' + '\\n'\n",
        "    all_lines[7] = '$PRJ_PATH/backup/' + MODEL_NAME+'-yolov3-tiny_final.weights' + ' \\\\' + '\\n'\n",
        "    all_lines[8] = '-ext_output ' + '$PRJ_PATH/img/' + img_name + '.jpg' + ' \\\\' + '\\n'\n",
        "    file.writelines(all_lines)\n",
        "    print('image_demo.sh'+' has been successfully modified!')\n",
        "    print('Ready to predict ' + img_name + '.jpg')\n",
        "    file.close()"
      ],
      "execution_count": 0,
      "outputs": []
    },
    {
      "cell_type": "markdown",
      "metadata": {
        "id": "884YAiDWUsh1",
        "colab_type": "text"
      },
      "source": [
        "**Step #3: Run the Demo Script**"
      ]
    },
    {
      "cell_type": "code",
      "metadata": {
        "id": "qIC-EotwU6Cd",
        "colab_type": "code",
        "colab": {}
      },
      "source": [
        "!source image_demo.sh"
      ],
      "execution_count": 0,
      "outputs": []
    },
    {
      "cell_type": "markdown",
      "metadata": {
        "id": "SQ6BKBjCZic8",
        "colab_type": "text"
      },
      "source": [
        "**Step #4: Display the prediction**"
      ]
    },
    {
      "cell_type": "code",
      "metadata": {
        "id": "Sq6e3CEAZsdn",
        "colab_type": "code",
        "colab": {}
      },
      "source": [
        "imShow('/content/darknet/predictions.jpg')"
      ],
      "execution_count": 0,
      "outputs": []
    },
    {
      "cell_type": "markdown",
      "metadata": {
        "id": "fK6yBB7DUlut",
        "colab_type": "text"
      },
      "source": [
        "## Test the trained model with a video/camera input"
      ]
    },
    {
      "cell_type": "markdown",
      "metadata": {
        "id": "B8J8Euw2weTt",
        "colab_type": "text"
      },
      "source": [
        "**Step #1: Modify the demo script**"
      ]
    },
    {
      "cell_type": "code",
      "metadata": {
        "id": "IMbk-Sknvr3N",
        "colab_type": "code",
        "colab": {}
      },
      "source": [
        "#video_demo.sh\n",
        "with open('video_demo.sh', \"r\") as file:\n",
        "    file.seek(0)\n",
        "    all_lines = file.readlines()\n",
        "    file.close()\n",
        "with open('video_demo.sh', \"w\") as file:\n",
        "    all_lines[7] = '$PRJ_PATH/' + MODEL_NAME + '.data \\\\' + '\\n'\n",
        "    all_lines[8] = '$PRJ_PATH/' + MODEL_NAME+'-yolov3-tiny.cfg' + ' \\\\' + '\\n'\n",
        "    all_lines[9] = '$PRJ_PATH/' + MODEL_NAME+'-yolov3-tiny_final.weights' + ' \\\\' + '\\n'\n",
        "    file.writelines(all_lines)\n",
        "    print('video_demo.sh'+' has been successfully modified!')\n",
        "    file.close()"
      ],
      "execution_count": 0,
      "outputs": []
    },
    {
      "cell_type": "code",
      "metadata": {
        "id": "8NhpcKCrbWmf",
        "colab_type": "code",
        "colab": {}
      },
      "source": [
        "#cam_demo.sh\n",
        "with open('cam_demo.sh', \"r\") as file:\n",
        "    file.seek(0)\n",
        "    all_lines = file.readlines()\n",
        "    file.close()\n",
        "with open('cam_demo.sh', \"w\") as file:\n",
        "    all_lines[7] = '$PRJ_PATH/' + MODEL_NAME + '.data \\\\' + '\\n'\n",
        "    all_lines[8] = '$PRJ_PATH/' + MODEL_NAME + '-yolov3-tiny.cfg' + ' \\\\' + '\\n'\n",
        "    all_lines[9] = '$PRJ_PATH/' + MODEL_NAME + '-yolov3-tiny_final.weights' + ' \\\\' + '\\n'\n",
        "    all_lines[10] = '-c 0 -thresh .5'\n",
        "    file.writelines(all_lines)\n",
        "    print('cam_demo.sh'+' has been successfully modified!')\n",
        "    file.close()"
      ],
      "execution_count": 0,
      "outputs": []
    },
    {
      "cell_type": "code",
      "metadata": {
        "id": "tQ8qvtkjGxe3",
        "colab_type": "code",
        "colab": {}
      },
      "source": [
        "#class.data\n",
        "with open(MODEL_NAME+'.data', \"w\") as file:\n",
        "    file.seek(0)\n",
        "    file.write('classes = ' + str(CLASS_NUM) + '\\n')\n",
        "    file.write('train = <Folder_Path>/train.txt' + '\\n')\n",
        "    file.write('valid = <Folder_Path>/test.txt' + '\\n')\n",
        "    file.write('backup = <Folder_Path>/backup' + '\\n')\n",
        "    file.write('names = <Folder_Path>/' + MODEL_NAME + '.names' + '\\n')\n",
        "    print(MODEL_NAME+'.data'+' has been successfully created!')\n",
        "    file.close()"
      ],
      "execution_count": 0,
      "outputs": []
    },
    {
      "cell_type": "markdown",
      "metadata": {
        "colab_type": "text",
        "id": "VBevdjxPxjOo"
      },
      "source": [
        "**Step #2: Download the necessary files from Colab** \\\n",
        " \\\n",
        "**Notes:** \\\n",
        " \\\n",
        "** For some reasons, it is pretty hard to display the video result from Colab. You may run the script below to download all the necessary files from Colab to your local machine, and run the darknet dector from your local machine afterwards. \\\n",
        "** Please make sure you have installed and compiled Darknet in your local machine as well. Otherwise, you will not be able to see the predictions from a video input as expected. You may check out https://github.com/AlexeyAB/darknet for installation guide."
      ]
    },
    {
      "cell_type": "markdown",
      "metadata": {
        "id": "YxxsSl0z_0GX",
        "colab_type": "text"
      },
      "source": [
        "**Compress all necessary files**"
      ]
    },
    {
      "cell_type": "code",
      "metadata": {
        "id": "R0Zkgv-TwMdA",
        "colab_type": "code",
        "colab": {}
      },
      "source": [
        "!mkdir /content/custom_model"
      ],
      "execution_count": 0,
      "outputs": []
    },
    {
      "cell_type": "code",
      "metadata": {
        "id": "O44OrDL_mq0v",
        "colab_type": "code",
        "colab": {}
      },
      "source": [
        "import os\n",
        "import shutil\n",
        "import zipfile\n",
        "\n",
        "dir_src = (\"/content/yolov3-dataloader-cloud\")\n",
        "dir_dst = (\"/content/custom_model\")\n",
        "file_list = []\n",
        "Model_Final_Weight = MODEL_NAME+'-yolov3-tiny_final.weights'\n",
        "Model_Weights = MODEL_NAME+'-yolov3-tiny.cfg'\n",
        "\n",
        "for file in os.listdir(dir_src):\n",
        "    if file.endswith(\".data\"):\n",
        "      file_list.append(file)\n",
        "    if file.endswith(\".names\"):\n",
        "      file_list.append(file)    \n",
        "file_list.append('video_demo.sh')  \n",
        "file_list.append('cam_demo.sh')\n",
        "file_list.append(Model_Final_Weight) \n",
        "file_list.append(Model_Weights)\n",
        "\n",
        "print(\"The following files are going to be exported: \\n\")\n",
        "for file in file_list:\n",
        "  print(file)\n",
        "print()\n",
        "print(\"Exporting...\")\n",
        "\n",
        "# Copy files\n",
        "for filename in file_list:\n",
        "  if filename.endswith('.weights'):\n",
        "    shutil.copy(dir_src + '/backup/' + filename, dir_dst)\n",
        "  else:\n",
        "    shutil.copy(dir_src + '/' + filename, dir_dst)\n",
        "\n",
        "# Zip target files\n",
        "!zip -r /content/custom_model.zip /content/custom_model/*\n",
        "\n",
        "print(\"Export done!\")"
      ],
      "execution_count": 0,
      "outputs": []
    },
    {
      "cell_type": "markdown",
      "metadata": {
        "id": "jDQJKNnHumOO",
        "colab_type": "text"
      },
      "source": [
        "**Download the zip file from Colab**"
      ]
    },
    {
      "cell_type": "markdown",
      "metadata": {
        "id": "YfDrvgVZ-2aD",
        "colab_type": "text"
      },
      "source": [
        "** Hit the Refresh button and you will see the custom_model.zip file \\\n",
        "** Right Click the custom_model.zip file and download it to your local machine."
      ]
    },
    {
      "cell_type": "markdown",
      "metadata": {
        "id": "JLAsAfN3ABCF",
        "colab_type": "text"
      },
      "source": [
        "**Step #3: Test on your local machine**"
      ]
    },
    {
      "cell_type": "markdown",
      "metadata": {
        "id": "j0ZZnIBYATpN",
        "colab_type": "text"
      },
      "source": [
        "** Please make sure you have installed and compiled Darknet in your local machine as well. Otherwise, you will not be able to see the predictions from a video input as expected. You may check out https://github.com/AlexeyAB/darknet for installation guide. \\\n",
        " \\\n",
        "** On your local machine, follow the steps below: \\\n",
        "- Unzip the custom_model.zip file\n",
        "- Navigate to the custom_model folder\n",
        "- Find the path of the folder by running $ pwd\n",
        "- Open the .data file with an IDE\n",
        "- Update the path of custom_model\n",
        "- Open the video_demo.sh and cam_demo.sh with an IDE\n",
        "- Update the path of darknet and the path of custom_model\n",
        "- Place a test video file in the custom_model folder, and name it test.mp4\n",
        "- Run the script\n",
        "```\n",
        "$ sudo chmod +x video_demo.sh cam_demo.sh\n",
        "$ ./video.sh\n",
        "$ ./cam.sh\n",
        "```"
      ]
    },
    {
      "cell_type": "markdown",
      "metadata": {
        "id": "AEczy3rObjB3",
        "colab_type": "text"
      },
      "source": [
        "## Notes:"
      ]
    },
    {
      "cell_type": "markdown",
      "metadata": {
        "id": "HmRrSk__bnMd",
        "colab_type": "text"
      },
      "source": [
        "- To stream the detector output, you may use the http_tcp, json, and mjpeg streaming protocol.  \\\n",
        "   \\\n",
        "  For **JSON**: add **-json_port 8080 -ext_output** to the last line of your demo scripts\\\n",
        "  For **mjpeg**: add **-mjpeg_port 8070 -ext_output** to the last line of your demo scripts\\\n",
        "     \\\n",
        "  Open a web browser and type localhost:8080 and you will see the stream data from yolov3 detector\n",
        "  \n",
        "- To store the output, you may append **-out_filename output.mp4** to the last line of your demo scripts\n",
        "\n",
        "- If you have any suggestions or comments, please contact me via kevinyu211@yahoo.com or visit my site @ www.hikariai.net"
      ]
    }
  ]
}